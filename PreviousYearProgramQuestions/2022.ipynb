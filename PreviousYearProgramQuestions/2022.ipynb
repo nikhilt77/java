{
 "cells": [
  {
   "cell_type": "markdown",
   "metadata": {},
   "source": [
    "## 2022"
   ]
  },
  {
   "cell_type": "code",
   "execution_count": null,
   "metadata": {},
   "outputs": [],
   "source": [
    "class Animal:\n",
    "  def __init__(self, name, age):\n",
    "    self.name = name\n",
    "    self.age = age\n",
    "\n",
    "  def speak(self):\n",
    "    print(\"I am an animal.\")\n",
    "\n",
    "class Dog(Animal):\n",
    "  def __init__(self, name, age):\n",
    "    super().__init__(name, age)\n",
    "\n",
    "  def speak(self):\n",
    "    print(\"I am a dog.\")\n",
    "\n",
    "animal = Animal(\"Animal\", 10)\n",
    "animal.speak()\n",
    "\n",
    "dog = Dog(\"Dog\", 12)\n",
    "dog.speak()"
   ]
  },
  {
   "cell_type": "code",
   "execution_count": null,
   "metadata": {},
   "outputs": [],
   "source": [
    "class Student:\n",
    "  def __init__(self, name, age, grade):\n",
    "    self.name = name\n",
    "    self.age = age\n",
    "    self.grade = grade\n",
    "\n",
    "  def get_name(self):\n",
    "    return self.name\n",
    "\n",
    "  def set_name(self, name):\n",
    "    self.name = name\n",
    "\n",
    "  def get_age(self):\n",
    "    return self.age\n",
    "\n",
    "  def set_age(self, age):\n",
    "    self.age = age\n",
    "\n",
    "  def get_grade(self):\n",
    "    return self.grade\n",
    "\n",
    "  def set_grade(self, grade):\n",
    "    self.grade = grade\n",
    "\n",
    "student = Student(\"Student\", 18, 10)\n",
    "print(student.get_name())\n",
    "print(student.get_age())\n",
    "print(student.get_grade())\n",
    "\n",
    "student.set_name(\"New Student\")\n",
    "student.set_age(19)\n",
    "student.set_grade(11)\n",
    "\n",
    "print(student.get_name())\n",
    "print(student.get_age())\n",
    "print(student.get_grade())"
   ]
  },
  {
   "cell_type": "code",
   "execution_count": null,
   "metadata": {},
   "outputs": [],
   "source": [
    "class Animal:\n",
    "  def __init__(self, name):\n",
    "    self.name = name\n",
    "\n",
    "  def speak(self):\n",
    "    print(\"I am an animal.\")\n",
    "\n",
    "class Dog(Animal):\n",
    "  def __init__(self, name):\n",
    "    super().__init__(name)\n",
    "\n",
    "  def speak(self):\n",
    "    print(\"I am a dog.\")\n",
    "\n",
    "class Cat(Animal):\n",
    "  def __init__(self, name):\n",
    "    super().__init__(name)\n",
    "\n",
    "  def speak(self):\n",
    "    print(\"I am a cat.\")\n",
    "\n",
    "animal = Animal(\"Animal\")\n",
    "animal.speak()\n",
    "\n",
    "dog = Dog(\"Dog\")\n",
    "dog.speak()\n",
    "\n",
    "cat = Cat(\"Cat\")\n",
    "cat.speak()"
   ]
  },
  {
   "cell_type": "code",
   "execution_count": null,
   "metadata": {},
   "outputs": [],
   "source": [
    "class Drawable:\n",
    "  def draw(self):\n",
    "    pass\n",
    "\n",
    "class Circle(Drawable):\n",
    "  def draw(self):\n",
    "    print(\"Drawing a circle.\")"
   ]
  },
  {
   "cell_type": "code",
   "execution_count": null,
   "metadata": {},
   "outputs": [],
   "source": [
    "class Logger:\n",
    "  def __init__(self):\n",
    "    self.file = open(\"log.txt\", \"w\")\n",
    "\n",
    "  def log(self, message):\n",
    "    self.file.write(message + \"\\n\")\n",
    "\n",
    "logger = Logger()\n",
    "logger.log(\"This is a log message.\")"
   ]
  },
  {
   "cell_type": "code",
   "execution_count": null,
   "metadata": {},
   "outputs": [],
   "source": [
    "class Singleton:\n",
    "  def __init__(self):\n",
    "    self._instance = None\n",
    "\n",
    "  def __new__(cls, *args, **kwargs):\n",
    "    if cls._instance is None:\n",
    "      cls._instance = super().__new__(cls, *args, **kwargs)\n",
    "\n",
    "    return cls._instance\n",
    "\n",
    "class Logger(Singleton):\n",
    "  def __init__(self):\n",
    "    super().__init__()\n",
    "    self.file = open(\"log.txt\", \"w\")\n",
    "\n",
    "  def log(self, message):\n",
    "    self.file.write(message + \"\\n\")\n",
    "\n",
    "logger = Logger()\n",
    "logger.log(\"This is a log message.\")"
   ]
  }
 ],
 "metadata": {
  "kernelspec": {
   "display_name": "Python 3",
   "language": "python",
   "name": "python3"
  },
  "language_info": {
   "codemirror_mode": "ipython",
   "file_extension": ".py",
   "mimetype": "text/x-python",
   "name": "python",
   "version": "3.10.4"
  }
 },
 "nbformat": 4,
 "nbformat_minor": 5
}
