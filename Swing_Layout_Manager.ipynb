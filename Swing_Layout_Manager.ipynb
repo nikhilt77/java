{
 "cells": [
  {
   "cell_type": "markdown",
   "metadata": {},
   "source": [
    "# Swing Layout Managers\n\n* A layout manager automatically arranges our controls within a window by using some type of algorithm.\n* Each Container object has a layout manager associated with it.\n* A layout manager is an instance of any class that implements the LayoutManager interface.\n* The layout manager is set by the setLayout( ) method.\n\nJava has several predefined LayoutManager classes, such as FlowLayout, BorderLayout, GridLayout, CardLayout, and GridBagLayout.\n\n## FlowLayout\n\nThe direction of the layout is governed by the container’s component orientation property, which, by default, is left to right, top to bottom. In FlowLayout, components are laid out line-by-line beginning at the upper-left corner. When a line is filled, layout advances to the next line. A small space is left between each component, above and below, as well as left and right.\n\n## BorderLayout\n\nBy default, the content pane associated with a JFrame uses border layout. The BorderLayout class implements a common layout style for top-level windows. It has four narrow, fixed-width components at the edges and one large area in the center. The four sides are referred to as North, South, East, and West. The middle area is called Center.\n\n## GridLayout\n\nGridLayout lays out components in a two-dimensional grid. We can define the number of rows and columns.\n\n## CardLayout\n\nThe CardLayout class is unique among the other layout managers in that it stores several different layouts."
   ],
   "cell_type": "code",
   "metadata": {},
   "source": [
    "import java.awt.*; import java.awt.event.*;\nimport javax.swing.*;\nclass EventDemoSwing extends JFrame implements ActionListener{\nJLabel jlab;\nJFrame jfrm;\nJButton jbtnOk;\nJButton jbtnCancel;\nEventDemoSwing()\n{\njfrm = new JFrame(\"An Event Eg\");\njfrm.setLayout(new BorderLayout ());\njfrm.setSize(220, 90);\n\npublic void actionPerformed(ActionEvent ae)\n{\nString s = ae.getActionCommand();\nif(s.equalsIgnoreCase(\"ok\"))\njlab.setText(\"OK pressed.\");\nelse if(s.equalsIgnoreCase(\"cancel\"))\njlab.setText(\"Cancel pressed.\");\n\n}\njfrm.setSize(220, 90); jfrm.setDefaultCloseOperation(JFrame.EXIT_ON_CLOSE);\njbtnOk = new JButton(\"OK\");\nJButton jbtnCancel = new JButton(\"Cancel\");\njbtnOk.setToolTipText(\"click\");\njbtnOk.addActionListener(this);\njbtnCancel.addActionListener(this);\njfrm.add(jbtnOk,BorderLayout.EAST);\njfrm.add(jbtnCancel, BorderLayout.WEST);\njlab = new JLabel(\"Press a button.\");\njfrm.add(jlab BorderLayout.NORTH);\njfrm.setVisible(true); }\n\n}\n\npublic static void main(String args[])\n{SwingUtilities.invokeLater(new Runnable()\n{\npublic void run()\n{\nnew EventDemoSwing();\n}\n}\n); }\n}\n"
   ]
  }
 ],
 "metadata": {
  "kernelspec": {
   "display_name": "Java",
   "language": "java",
   "name": "java"
  },
  "language_info": {
   "file_extension": ".java",
   "mimetype": "text/x-java-source",
   "name": "java",
   "version": "1.8"
  }
 },
 "nbformat": 4,
 "nbformat_minor": 2
}

