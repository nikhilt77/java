{
 "cells": [
  {
   "cell_type": "markdown",
   "metadata": {},
   "source": [
    "# Swing Layout Managers\n\n* A layout manager automatically arranges our controls within a window by using some type of algorithm.\n* Each Container object has a layout manager associated with it.\n* A layout manager is an instance of any class that implements the LayoutManager interface.\n* The layout manager is set by the setLayout( ) method.\n\nJava has several predefined LayoutManager classes, such as FlowLayout, BorderLayout, GridLayout, CardLayout, and GridBagLayout.\n\n## FlowLayout\n\nThe direction of the layout is governed by the container’s component orientation property, which, by default, is left to right, top to bottom. In FlowLayout, components are laid out line-by-line beginning at the upper-left corner. When a line is filled, layout advances to the next line. A small space is left between each component, above and below, as well as left and right.\n\n## BorderLayout\n\nBy default, the content pane associated with a JFrame uses border layout. The BorderLayout class implements a common layout style for top-level windows. It has four narrow, fixed-width components at the edges and one large area in the center. The four sides are referred to as North, South, East, and West. The middle area is called Center.\n\n## GridLayout\n\nGridLayout lays out components in a two-dimensional grid. We can define the number of rows and columns.\n\n## CardLayout\n\nThe CardLayout class is unique among the other layout managers in that it stores several different layouts."
   ],
  
  "metadata": {
  "kernelspec": {
   "display_name": "Python 3",
   "language": "python",
   "name": "python3"
  },
  "language_info": {
   "codemirror_mode": {
    "name": "ipython",
    "version": 3
   },
   "file_extension": ".py",
   "mimetype": "text/x-python",
   "name": "python",
   "nbconvert_exporter": "python",
   "pygments_lexer": "ipython3",
   "version": "3.8.5"
  }
 },
 "nbformat": 4,
 "nbformat_minor": 4
}
