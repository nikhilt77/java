{
 "cells": [
  {
   "cell_type": "markdown",
   "metadata": {},
   "source": [
    "# Previous year programs questions asked from OOP CST 205 according to Kerala Technical University (KTU) 2019 scheme\n",
    "\n",
    "## Module 1\n",
    "\n",
    "- Write a program to create a simple calculator.\n",
    "- Write a program to print the Fibonacci series.\n",
    "- Write a program to print the prime numbers between 1 and 100.\n",
    "- Write a program to sort an array of integers.\n",
    "- Write a program to search for an element in an array.\n",
    "\n",
    "## Module 2\n",
    "\n",
    "- Write a program to implement the inheritance concept.\n",
    "- Write a program to implement the polymorphism concept.\n",
    "- Write a program to implement the abstract class concept.\n",
    "- Write a program to implement the interface concept.\n",
    "- Write a program to implement the superclass and subclass concept.\n",
    "\n",
    "## Module 3\n",
    "\n",
    "- Write a program to implement the data encapsulation concept.\n",
    "- Write a program to implement the data hiding concept.\n",
    "- Write a program to implement the data abstraction concept.\n",
    "- Write a program to implement the information hiding concept.\n",
    "- Write a program to implement the package concept.\n",
    "\n",
    "## Module 4\n",
    "\n",
    "- Write a program to read and write to a file.\n",
    "- Write a program to create and delete a directory.\n",
    "- Write a program to create and close a stream.\n",
    "- Write a program to create and close a buffer.\n",
    "- Write a program to create and close a socket.\n",
    "\n",
    "## Module 5\n",
    "\n",
    "- Write a program to connect to a database using JDBC.\n",
    "- Write a program to execute a SQL statement using JDBC.\n",
    "- Write a program to iterate over the results of a SQL statement using JDBC.\n",
    "- Write a program to create a graphical user interface using Swings.\n",
    "- Write a program to display a JFrame object in a window."
   ]
  }
 ],
 "metadata": {
  "kernelspec": {
   "display_name": "Python 3",
   "language": "python",
   "name": "python3"
  },
  "language_info": {
   "codemirror_mode": {
    "name": "ipython",
    "version": 3
   },
   "file_extension": ".py",
   "mimetype": "text/x-python",
   "name": "python",
   "nbconvert_exporter": "python",
   "pygments_lexer": "ipython3",
   "version": "3.8.5"
  }
 },
 "nbformat": 4,
 "nbformat_minor": 4
}
