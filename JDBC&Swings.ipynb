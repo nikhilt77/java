{
 "cells": [
  {
   "cell_type": "markdown",
   "metadata": {},
   "source": [
    "# Module 5: JDBC and Swings\n",
    "\n",
    "## JDBC\n",
    "\n",
    "JDBC stands for Java Database Connectivity. It is a standard API that allows Java applications to connect to and interact with databases. JDBC is a thin driver architecture, which means that it does not include any database-specific code. Instead, it relies on database-specific drivers to provide the necessary functionality to connect to and interact with a specific database.\n",
    "\n",
    "To use JDBC, you first need to load the appropriate driver for your database. Once the driver is loaded, you can create a connection to the database using the DriverManager class. The DriverManager class provides a number of methods for getting a connection to a database, including the getConnection() method. The getConnection() method takes two parameters: the URL of the database and the username and password of the user who will be connecting to the database.\n",
    "\n",
    "Once you have a connection to the database, you can use the Statement class to execute SQL statements. The Statement class provides a number of methods for executing SQL statements, including the execute() method. The execute() method takes a single parameter: the SQL statement that you want to execute.\n",
    "\n",
    "The execute() method returns a ResultSet object. The ResultSet object is a cursor that can be used to iterate over the results of the SQL statement. The ResultSet class provides a number of methods for iterating over the results, including the next() method. The next() method returns a boolean value that indicates whether there are any more rows in the result set. If there are more rows, the next() method returns true and the current row can be retrieved using the get() method.\n",
    "\n",
    "## Swings\n",
    "\n",
    "Swings is a graphical user interface (GUI) toolkit for Java. It is a powerful toolkit that can be used to create a wide variety of graphical user interfaces. Swings is based on the Java Foundation Classes (JFC), which is a set of core classes for developing graphical user interfaces in Java.\n",
    "\n",
    "The Swings toolkit provides a number of components that can be used to create graphical user interfaces, including buttons, text fields, combo boxes, and tables. The Swings components are all subclasses of the JComponent class. The JComponent class provides a number of methods for configuring and manipulating the components.\n",
    "\n",
    "To create a graphical user interface using Swings, you first need to create a JFrame object. The JFrame object is a container that can be used to hold other components. Once you have created a JFrame object, you can add components to it using the add() method. The add() method takes two parameters: the component that you want to add and the location where you want to add the component.\n",
    "\n",
    "Once you have added components to the JFrame object, you can display the JFrame object using the show() method. The show() method displays the JFrame object in a window.\n",
    "\n",
    "## Previous year questions\n",
    "\n",
    "In the previous year, the following questions were asked from Module 5 of CST205 of OOP in KTU 2019 scheme:\n",
    "\n",
    "- What is JDBC?\n",
    "- What is the difference between JDBC and Swings?\n",
    "- How do you connect to a database using JDBC?\n",
    "- How do you execute SQL statements using JDBC?\n",
    "- What is a ResultSet object?\n",
    "- How do you iterate over the results of a SQL statement using JDBC?\n",
    "- What is Swings?\n",
    "- What are the different components that are available in the Swings toolkit?\n",
    "- How do you create a graphical user interface using Swings?\n",
    "- How do you display a JFrame object in a window?"
   ]
  }
 ],
 "metadata": {
  "kernelspec": {
   "display_name": "Python 3",
   "language": "python",
   "name": "python3"
  },
  "language_info": {
   "codemirror_mode": {
    "name": "ipython",
    "version": 3
   },
   "file_extension": ".py",
   "mimetype": "text/x-python",
   "name": "python",
   "nbconvert_exporter": "python",
   "pygments_lexer": "ipython3",
   "version": "3.8.5"
  }
 },
 "nbformat": 4,
 "nbformat_minor": 4
}
