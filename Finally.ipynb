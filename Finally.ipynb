{
 "cells": [
  {
   "cell_type": "code",
   "execution_count": null,
   "metadata": {},
   "outputs": [],
   "source": [
    "%%java\n",
    "import java.io.File;\n",
    "import java.io.IOException;\n",
    "\n",
    "public class FinallyBlockExample {\n",
    "\n",
    "    public static void main(String[] args) {\n",
    "        File file = new File(\"test.txt\");\n",
    "\n",
    "        try {\n",
    "            // Open the file\n",
    "            file.createNewFile();\n",
    "\n",
    "            // Do something with the file\n",
    "            System.out.println(\"The file is open.\");\n",
    "        } catch (IOException e) {\n",
    "            // Handle the exception\n",
    "            System.out.println(\"An error occurred while opening the file.\");\n",
    "        } finally {\n",
    "            // Close the file\n",
    "            file.delete();\n",
    "\n",
    "            // Do something else\n",
    "            System.out.println(\"The file is closed.\");\n",
    "        }\n",
    "    }\n",
    "}\n"
   ]
  }
 ],
 "metadata": {
  "kernelspec": {
   "display_name": "Java",
   "language": "java",
   "name": "java"
  },
  "language_info": {
   "file_extension": ".java",
   "mimetype": "text/x-java-source",
   "name": "java",
   "version": "1.8"
  }
 },
 "nbformat": 4,
 "nbformat_minor": 5
}
